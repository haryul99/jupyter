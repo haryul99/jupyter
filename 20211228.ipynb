{
 "cells": [
  {
   "cell_type": "code",
   "execution_count": 21,
   "id": "b5a2021d-d8f9-49d7-8955-70bd07868ca3",
   "metadata": {},
   "outputs": [
    {
     "name": "stdin",
     "output_type": "stream",
     "text": [
      "정답을 말하세요 1\n"
     ]
    },
    {
     "name": "stdout",
     "output_type": "stream",
     "text": [
      "\n",
      "정답이 아닙니다.\n",
      "\n",
      "\t up!\n",
      "\n",
      
     ]
    },
    {
     "name": "stdin",
     "output_type": "stream",
     "text": [
      "\n",
      "정답을 말하세요 100\n"
     ]
    },
    {
     "name": "stdout",
     "output_type": "stream",
     "text": [
      "\n",
      "정답이 아닙니다.\n",
      "\n",
      "\t down!\n",
      "\n",
      "맞출기회가8번남았습니다\n",
      "\n"
     ]
    },
    {
     "name": "stdin",
     "output_type": "stream",
     "text": [
      "\n",
      "정답을 말하세요 1\n"
     ]
    },
    {
     "name": "stdout",
     "output_type": "stream",
     "text": [
      "\n",
      "정답이 아닙니다.\n",
      "\n",
      "\t up!\n",
      "\n",
      "맞출기회가7번남았습니다\n"
     ]
    },
    {
     "name": "stdin",
     "output_type": "stream",
     "text": [
      "\n",
      "정답을 말하세요 1\n"
     ]
    },
    {
     "name": "stdout",
     "output_type": "stream",
     "text": [
      "\n",
      "정답이 아닙니다.\n",
      "\n",
      "\t up!\n",
      "\n",
      "맞출기회가6번남았습니다\n"
     ]
    },
    {
     "name": "stdin",
     "output_type": "stream",
     "text": [
      "\n",
      "정답을 말하세요 1\n"
     ]
    },
    {
     "name": "stdout",
     "output_type": "stream",
     "text": [
      "\n",
      "정답이 아닙니다.\n",
      "\n",
      "\t up!\n",
      "\n",
      "맞출기회가5번남았습니다\n"
     ]
    },
    {
     "name": "stdin",
     "output_type": "stream",
     "text": [
      "\n",
      "정답을 말하세요 1\n"
     ]
    },
    {
     "name": "stdout",
     "output_type": "stream",
     "text": [
      "\n",
      "정답이 아닙니다.\n",
      "\n",
      "\t up!\n",
      "\n",
      "맞출기회가4번남았습니다\n"
     ]
    },
    {
     "name": "stdin",
     "output_type": "stream",
     "text": [
      "\n",
      "정답을 말하세요 1\n"
     ]
    },
    {
     "name": "stdout",
     "output_type": "stream",
     "text": [
      "\n",
      "정답이 아닙니다.\n",
      "\n",
      "\t up!\n",
      "\n",
      "맞출기회가3번남았습니다\n"
     ]
    },
    {
     "name": "stdin",
     "output_type": "stream",
     "text": [
      "\n",
      "정답을 말하세요 1\n"
     ]
    },
    {
     "name": "stdout",
     "output_type": "stream",
     "text": [
      "\n",
      "정답이 아닙니다.\n",
      "\n",
      "\t up!\n",
      "\n",
      "맞출기회가2번남았습니다\n"
     ]
    },
    {
     "name": "stdin",
     "output_type": "stream",
     "text": [
      "\n",
      "정답을 말하세요 1\n"
     ]
    },
    {
     "name": "stdout",
     "output_type": "stream",
     "text": [
      "\n",
      "정답이 아닙니다.\n",
      "\n",
      "\t up!\n",
      "\n",
      "맞출기회가1번남았습니다\n"
     ]
    },
    {
     "name": "stdin",
     "output_type": "stream",
     "text": [
      "\n",
      "정답을 말하세요 1\n"
     ]
    },
    {
     "name": "stdout",
     "output_type": "stream",
     "text": [
      "\n",
      "정답이 아닙니다.\n",
      "\n",
      "\t up!\n",
      "\n",
      "맞출기회가0번남았습니다\n",
      "\n",
      "맞출 기회가 끝났습니다.\n"
     ]
    }
   ],
   "source": [
    "#1\n",
    "question = int(input('정답을 말하세요'))\n",
    "answer1 = 67\n",
    "chance = 10\n",
    "while chance >= 0 :\n",
    "    if question == answer1 :\n",
    "        print('\\n정답입니다.')\n",
    "        break    \n",
    "    else :\n",
    "        chance -= 1\n",
    "        print('\\n정답이 아닙니다.')\n",
    "        if question > answer1 :\n",
    "            print('\\n\\t down!\\n')\n",
    "            print('맞출기회가%d번남았습니다\\n'%chance)\n",
    "        else :\n",
    "            print('\\n\\t up!\\n')\n",
    "            print('맞출기회가%d번남았습니다'%chance)\n",
    "        if chance == 0 :\n",
    "            print('\\n맞출 기회가 끝났습니다.')\n",
    "            break\n",
    "    question = int(input('\\n정답을 말하세요'))\n",
    "    "
   ]
  },
  {
   "cell_type": "code",
   "execution_count": 2,
   "id": "d38ea9d5-0069-4850-95da-ec4345893afe",
   "metadata": {},
   "outputs": [
    {
     "name": "stdin",
     "output_type": "stream",
     "text": [
      "숫자를 입력하세요 3\n"
     ]
    },
    {
     "name": "stdout",
     "output_type": "stream",
     "text": [
      "상\n"
     ]
    }
   ],
   "source": [
    "#3\n",
    "answer = int(input('숫자를 입력하세요'))\n",
    "if answer == 3 :\n",
    "    print('상')\n",
    "elif answer == 2 :\n",
    "    print('중')\n",
    "elif answer == 1 :\n",
    "    print('하')\n",
    "else :\n",
    "    print('숫자를 잘못 입력하셨습니다.')"
   ]
  },
  {
   "cell_type": "code",
   "execution_count": null,
   "id": "9a489331-70e3-454c-b338-d27a99ca5a8f",
   "metadata": {},
   "outputs": [],
   "source": []
  }
 ],
 "metadata": {
  "kernelspec": {
   "display_name": "Python 3 (ipykernel)",
   "language": "python",
   "name": "python3"
  },
  "language_info": {
   "codemirror_mode": {
    "name": "ipython",
    "version": 3
   },
   "file_extension": ".py",
   "mimetype": "text/x-python",
   "name": "python",
   "nbconvert_exporter": "python",
   "pygments_lexer": "ipython3",
   "version": "3.9.7"
  }
 },
 "nbformat": 4,
 "nbformat_minor": 5
}
